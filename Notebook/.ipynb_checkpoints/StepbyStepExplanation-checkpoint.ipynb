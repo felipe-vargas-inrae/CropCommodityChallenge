{
 "cells": [
  {
   "cell_type": "markdown",
   "metadata": {},
   "source": [
    "# Social Crop Challenge Note Book\n",
    "    "
   ]
  },
  {
   "cell_type": "markdown",
   "metadata": {},
   "source": [
    "In this notebook will be explain an step by step data flow to understand all the proyect developed\n"
   ]
  },
  {
   "cell_type": "markdown",
   "metadata": {},
   "source": [
    "### Which Libraries I use?"
   ]
  },
  {
   "cell_type": "code",
   "execution_count": 1,
   "metadata": {
    "collapsed": false
   },
   "outputs": [
    {
     "name": "stdout",
     "output_type": "stream",
     "text": [
      "D:\\Felipe\\Tesis\\Pasantia\\SocialCrop\n"
     ]
    }
   ],
   "source": [
    "%matplotlib inline\n",
    "import matplotlib\n",
    "\n",
    "import pandas as pd\n",
    "import numpy as np\n",
    "import matplotlib.pyplot as plt\n",
    "import os,sys\n",
    "\n",
    "sys.path.append('../Factory')# commodity folder \n",
    "from Commodity import Commodity# for commodity entity\n",
    "\n",
    "\n",
    "os.chdir(\"../\") #execute this command once\n",
    "commodityManager=Commodity()## rely on the current path should be after chdir\n",
    "\n",
    "\n",
    "## alert to run this block please stop kernel because some relative path call could cause exceptions"
   ]
  },
  {
   "cell_type": "markdown",
   "metadata": {},
   "source": [
    "Pandas for data Manipulation,\n",
    "Numpy for maths and vector operation,\n",
    "and Matplotlib for plots\n"
   ]
  },
  {
   "cell_type": "markdown",
   "metadata": {},
   "source": [
    "### This is the Data,  Monthly_data_cmo_step1.csv, and CMO_MSP_Mandi_step1.csv\n",
    "\n",
    "I will skip the step 1 because it is about Commodity Id addition\n"
   ]
  },
  {
   "cell_type": "code",
   "execution_count": 2,
   "metadata": {
    "collapsed": false
   },
   "outputs": [],
   "source": [
    "RELATIVE_PATH=\"./data/Cleaned/\"\n",
    "FILE_NAME= RELATIVE_PATH+\"Monthly_data_cmo_step1\"\n",
    "FILE_NAME_2= RELATIVE_PATH+\"CMO_MSP_Mandi_step1\"\n",
    "FILE_FORMAT=\".csv\"\n",
    "\n",
    "DF_Month= pd.read_csv(\"./%s%s\"%(FILE_NAME,FILE_FORMAT))\n",
    "DF_SupportPrice= pd.read_csv(\"./%s%s\"%(FILE_NAME_2,FILE_FORMAT))"
   ]
  },
  {
   "cell_type": "markdown",
   "metadata": {},
   "source": [
    "DF_Month has information about monthly price for groups (Commodities,APMC) while DF_SupportPrice has information about support price for some crops, this is for farmers security and avoid losses\n"
   ]
  },
  {
   "cell_type": "code",
   "execution_count": 3,
   "metadata": {
    "collapsed": false
   },
   "outputs": [
    {
     "data": {
      "text/html": [
       "<div>\n",
       "<style scoped>\n",
       "    .dataframe tbody tr th:only-of-type {\n",
       "        vertical-align: middle;\n",
       "    }\n",
       "\n",
       "    .dataframe tbody tr th {\n",
       "        vertical-align: top;\n",
       "    }\n",
       "\n",
       "    .dataframe thead th {\n",
       "        text-align: right;\n",
       "    }\n",
       "</style>\n",
       "<table border=\"1\" class=\"dataframe\">\n",
       "  <thead>\n",
       "    <tr style=\"text-align: right;\">\n",
       "      <th></th>\n",
       "      <th>APMC</th>\n",
       "      <th>Commodity</th>\n",
       "      <th>Year</th>\n",
       "      <th>Month</th>\n",
       "      <th>arrivals_in_qtl</th>\n",
       "      <th>min_price</th>\n",
       "      <th>max_price</th>\n",
       "      <th>modal_price</th>\n",
       "      <th>date</th>\n",
       "      <th>district_name</th>\n",
       "      <th>state_name</th>\n",
       "      <th>CommodityId</th>\n",
       "    </tr>\n",
       "  </thead>\n",
       "  <tbody>\n",
       "    <tr>\n",
       "      <th>0</th>\n",
       "      <td>Ahmednagar</td>\n",
       "      <td>Bajri</td>\n",
       "      <td>2015</td>\n",
       "      <td>April</td>\n",
       "      <td>79</td>\n",
       "      <td>1406</td>\n",
       "      <td>1538</td>\n",
       "      <td>1463</td>\n",
       "      <td>2015-04</td>\n",
       "      <td>Ahmadnagar</td>\n",
       "      <td>Maharashtra</td>\n",
       "      <td>1</td>\n",
       "    </tr>\n",
       "    <tr>\n",
       "      <th>1</th>\n",
       "      <td>Ahmednagar</td>\n",
       "      <td>Bajri</td>\n",
       "      <td>2016</td>\n",
       "      <td>April</td>\n",
       "      <td>106</td>\n",
       "      <td>1788</td>\n",
       "      <td>1925</td>\n",
       "      <td>1875</td>\n",
       "      <td>2016-04</td>\n",
       "      <td>Ahmadnagar</td>\n",
       "      <td>Maharashtra</td>\n",
       "      <td>1</td>\n",
       "    </tr>\n",
       "    <tr>\n",
       "      <th>2</th>\n",
       "      <td>Ahmednagar</td>\n",
       "      <td>Wheat(Husked)</td>\n",
       "      <td>2015</td>\n",
       "      <td>April</td>\n",
       "      <td>1253</td>\n",
       "      <td>1572</td>\n",
       "      <td>1890</td>\n",
       "      <td>1731</td>\n",
       "      <td>2015-04</td>\n",
       "      <td>Ahmadnagar</td>\n",
       "      <td>Maharashtra</td>\n",
       "      <td>2</td>\n",
       "    </tr>\n",
       "    <tr>\n",
       "      <th>3</th>\n",
       "      <td>Ahmednagar</td>\n",
       "      <td>Wheat(Husked)</td>\n",
       "      <td>2016</td>\n",
       "      <td>April</td>\n",
       "      <td>387</td>\n",
       "      <td>1750</td>\n",
       "      <td>2220</td>\n",
       "      <td>1999</td>\n",
       "      <td>2016-04</td>\n",
       "      <td>Ahmadnagar</td>\n",
       "      <td>Maharashtra</td>\n",
       "      <td>2</td>\n",
       "    </tr>\n",
       "    <tr>\n",
       "      <th>4</th>\n",
       "      <td>Ahmednagar</td>\n",
       "      <td>Sorgum(Jawar)</td>\n",
       "      <td>2015</td>\n",
       "      <td>April</td>\n",
       "      <td>3825</td>\n",
       "      <td>1600</td>\n",
       "      <td>2200</td>\n",
       "      <td>1900</td>\n",
       "      <td>2015-04</td>\n",
       "      <td>Ahmadnagar</td>\n",
       "      <td>Maharashtra</td>\n",
       "      <td>3</td>\n",
       "    </tr>\n",
       "  </tbody>\n",
       "</table>\n",
       "</div>"
      ],
      "text/plain": [
       "         APMC      Commodity  Year  Month  arrivals_in_qtl  min_price  \\\n",
       "0  Ahmednagar          Bajri  2015  April               79       1406   \n",
       "1  Ahmednagar          Bajri  2016  April              106       1788   \n",
       "2  Ahmednagar  Wheat(Husked)  2015  April             1253       1572   \n",
       "3  Ahmednagar  Wheat(Husked)  2016  April              387       1750   \n",
       "4  Ahmednagar  Sorgum(Jawar)  2015  April             3825       1600   \n",
       "\n",
       "   max_price  modal_price     date district_name   state_name  CommodityId  \n",
       "0       1538         1463  2015-04    Ahmadnagar  Maharashtra            1  \n",
       "1       1925         1875  2016-04    Ahmadnagar  Maharashtra            1  \n",
       "2       1890         1731  2015-04    Ahmadnagar  Maharashtra            2  \n",
       "3       2220         1999  2016-04    Ahmadnagar  Maharashtra            2  \n",
       "4       2200         1900  2015-04    Ahmadnagar  Maharashtra            3  "
      ]
     },
     "execution_count": 3,
     "metadata": {},
     "output_type": "execute_result"
    }
   ],
   "source": [
    "DF_Month.head()"
   ]
  },
  {
   "cell_type": "code",
   "execution_count": 4,
   "metadata": {
    "collapsed": false
   },
   "outputs": [
    {
     "data": {
      "text/html": [
       "<div>\n",
       "<style scoped>\n",
       "    .dataframe tbody tr th:only-of-type {\n",
       "        vertical-align: middle;\n",
       "    }\n",
       "\n",
       "    .dataframe tbody tr th {\n",
       "        vertical-align: top;\n",
       "    }\n",
       "\n",
       "    .dataframe thead th {\n",
       "        text-align: right;\n",
       "    }\n",
       "</style>\n",
       "<table border=\"1\" class=\"dataframe\">\n",
       "  <thead>\n",
       "    <tr style=\"text-align: right;\">\n",
       "      <th></th>\n",
       "      <th>commodity</th>\n",
       "      <th>year</th>\n",
       "      <th>Type</th>\n",
       "      <th>msprice</th>\n",
       "      <th>msp_filter</th>\n",
       "      <th>CommodityId</th>\n",
       "    </tr>\n",
       "  </thead>\n",
       "  <tbody>\n",
       "    <tr>\n",
       "      <th>0</th>\n",
       "      <td>PADDY-UNHUSKED</td>\n",
       "      <td>2012</td>\n",
       "      <td>Kharif Crops</td>\n",
       "      <td>1250.0</td>\n",
       "      <td>1</td>\n",
       "      <td>38</td>\n",
       "    </tr>\n",
       "    <tr>\n",
       "      <th>1</th>\n",
       "      <td>RICE(PADDY-HUS)</td>\n",
       "      <td>2012</td>\n",
       "      <td>Kharif Crops</td>\n",
       "      <td>1280.0</td>\n",
       "      <td>1</td>\n",
       "      <td>71</td>\n",
       "    </tr>\n",
       "    <tr>\n",
       "      <th>2</th>\n",
       "      <td>Jowar_Hybrid</td>\n",
       "      <td>2012</td>\n",
       "      <td>Kharif Crops</td>\n",
       "      <td>1500.0</td>\n",
       "      <td>1</td>\n",
       "      <td>203</td>\n",
       "    </tr>\n",
       "    <tr>\n",
       "      <th>3</th>\n",
       "      <td>SORGUM(JAWAR)</td>\n",
       "      <td>2012</td>\n",
       "      <td>Kharif Crops</td>\n",
       "      <td>1520.0</td>\n",
       "      <td>1</td>\n",
       "      <td>3</td>\n",
       "    </tr>\n",
       "    <tr>\n",
       "      <th>4</th>\n",
       "      <td>BAJRI</td>\n",
       "      <td>2012</td>\n",
       "      <td>Kharif Crops</td>\n",
       "      <td>1175.0</td>\n",
       "      <td>1</td>\n",
       "      <td>1</td>\n",
       "    </tr>\n",
       "  </tbody>\n",
       "</table>\n",
       "</div>"
      ],
      "text/plain": [
       "         commodity  year          Type  msprice  msp_filter  CommodityId\n",
       "0   PADDY-UNHUSKED  2012  Kharif Crops   1250.0           1           38\n",
       "1  RICE(PADDY-HUS)  2012  Kharif Crops   1280.0           1           71\n",
       "2     Jowar_Hybrid  2012  Kharif Crops   1500.0           1          203\n",
       "3    SORGUM(JAWAR)  2012  Kharif Crops   1520.0           1            3\n",
       "4            BAJRI  2012  Kharif Crops   1175.0           1            1"
      ]
     },
     "execution_count": 4,
     "metadata": {},
     "output_type": "execute_result"
    }
   ],
   "source": [
    "DF_SupportPrice.head()"
   ]
  },
  {
   "cell_type": "markdown",
   "metadata": {},
   "source": [
    "Notice the commodity in both Dataframes"
   ]
  },
  {
   "cell_type": "markdown",
   "metadata": {},
   "source": [
    "### Date type, Remove Missing Prices, Remove Duplicates"
   ]
  },
  {
   "cell_type": "code",
   "execution_count": 5,
   "metadata": {
    "collapsed": false
   },
   "outputs": [
    {
     "name": "stdout",
     "output_type": "stream",
     "text": [
      "62429\n",
      "62171\n"
     ]
    }
   ],
   "source": [
    "print(len(DF_Month))\n",
    "DF_Month[\"date\"]=DF_Month[\"Year\"].astype(str) +\"-\"+ DF_Month[\"Month\"].astype(str)\n",
    "DF_Month[\"date\"]=pd.to_datetime(DF_Month[\"date\"], format='%Y-%B')\n",
    "\n",
    "DF_Month=DF_Month[DF_Month[\"min_price\"]>0]\n",
    "DF_Month=DF_Month[DF_Month[\"max_price\"]>0]\n",
    "DF_Month=DF_Month[DF_Month[\"modal_price\"]>0]\n",
    "\n",
    "#remove duplicates added\n",
    "DF_Month=DF_Month.drop_duplicates(subset=[\"date\",\"CommodityId\",\"APMC\"], keep='first')\n",
    "\n",
    "print(len(DF_Month))"
   ]
  },
  {
   "cell_type": "markdown",
   "metadata": {},
   "source": [
    "### I defined a function to remove  some groups that didn't have enough information less than one year of records\n"
   ]
  },
  {
   "cell_type": "code",
   "execution_count": 6,
   "metadata": {
    "collapsed": true
   },
   "outputs": [],
   "source": [
    "def removeTsFewRecords(MyDataFrame):\n",
    "    MyDataFrameInt=MyDataFrame.copy()\n",
    "    DF_Count= MyDataFrameInt.groupby([\"CommodityId\",\"APMC\"])[\"CommodityId\"].count()\n",
    "    count_before=len(DF_Count)\n",
    "    ## filter the commodities-APMC which don't have at least 3 year of information\n",
    "    filterCriterian=12\n",
    "    DF_Count=DF_Count[DF_Count>=filterCriterian ]\n",
    "    count_after=len(DF_Count)\n",
    "    #DF_Count.plot.box()\n",
    "    \n",
    "    DF_Count=DF_Count.to_frame()\n",
    "    DF_Count.columns=[\"Count\"]\n",
    "    DF_Count.reset_index(inplace=True)\n",
    "    diff=count_before-count_after\n",
    "    print(\"Clusters eliminated: \"+ str(diff))\n",
    "    MyDataFrameInt=MyDataFrameInt.merge(DF_Count, how=\"inner\")\n",
    "    \n",
    "    return MyDataFrameInt[[\"date\",\"APMC\", \"CommodityId\", \"min_price\",\"max_price\",\"modal_price\",\"arrivals_in_qtl\" ]]\n",
    "    "
   ]
  },
  {
   "cell_type": "code",
   "execution_count": 7,
   "metadata": {
    "collapsed": false
   },
   "outputs": [
    {
     "name": "stdout",
     "output_type": "stream",
     "text": [
      "62171\n",
      "Clusters eliminated: 2447\n",
      "50940\n"
     ]
    }
   ],
   "source": [
    "## Apply the function \n",
    "print(len(DF_Month))\n",
    "DF_Month=removeTsFewRecords(DF_Month)\n",
    "print(len(DF_Month))"
   ]
  },
  {
   "cell_type": "markdown",
   "metadata": {},
   "source": [
    "I defined another function call removeOutliers.py that can be seen in file OutliersDetection.py\n",
    "this remove records based on the formula of normal distribution mean +- 2std\n",
    "the output of this is the file Monthly_data_cmo_step2"
   ]
  },
  {
   "cell_type": "code",
   "execution_count": 8,
   "metadata": {
    "collapsed": false
   },
   "outputs": [
    {
     "name": "stdout",
     "output_type": "stream",
     "text": [
      "45152\n"
     ]
    }
   ],
   "source": [
    "FILE_NAME=RELATIVE_PATH+\"Monthly_data_cmo_step2\"\n",
    "DF_Month= pd.read_csv(\"./%s%s\"%(FILE_NAME,FILE_FORMAT))\n",
    "print(len(DF_Month))"
   ]
  },
  {
   "cell_type": "markdown",
   "metadata": {},
   "source": [
    "### Now I will show how the groups behave in comparasion of the Commodity\n",
    "for all the commodities you can see file PlotByCommodity.py and the Report CommoditiesTS_modal_price.pdf"
   ]
  },
  {
   "cell_type": "code",
   "execution_count": 19,
   "metadata": {
    "collapsed": false
   },
   "outputs": [],
   "source": [
    "## this for manage commodity entity\n",
    "%matplotlib inline\n",
    "\n",
    "def viewPlotsTS(DataFrame_View,myColumnValue):\n",
    "    GrouperColumns=[\"CommodityId\"]\n",
    "    \n",
    "    by_group = DataFrame_View.groupby(GrouperColumns)\n",
    "    \n",
    "    by_group=sorted(by_group,  # iterates pairs of (key, corresponding subDataFrame)\n",
    "                key=lambda x: len(x[1]),  # sort by number of rows (len of subDataFrame)\n",
    "                reverse=True)  # reverse the sort i.e. largest first\n",
    "    \n",
    "    \n",
    "    for name, group in by_group:\n",
    "        \n",
    "        group=group.sort_values(\"date\")\n",
    "        \n",
    "        \n",
    "        fig, ax  = plt.subplots(figsize=(20, 8))\n",
    "        \n",
    "        realName= commodityManager.getNameById(name)\n",
    "        plt.title(str(name)+\"-\"+realName+\"-TS Plot\")\n",
    "        #for this comodity which is the APMC associated\n",
    "        apmcs=group[\"APMC\"].unique()[:2]\n",
    "        \n",
    "        for index,item in enumerate(apmcs):\n",
    "            groupFiltered=group[group[\"APMC\"]==item]\n",
    "            groupFiltered[\"date\"]=pd.to_datetime(groupFiltered[\"date\"])\n",
    "            groupFiltered=groupFiltered.set_index(\"date\")\n",
    "            groupFiltered=groupFiltered.sort_index()\n",
    "            \n",
    "            #print(groupFiltered)\n",
    "            \n",
    "            ts=groupFiltered[myColumnValue]\n",
    "            ts.plot(label=item)   \n",
    "            \n",
    "        ax.legend(loc='best')\n",
    "        plt.show()\n",
    "        break # just one iteration\n",
    "        "
   ]
  },
  {
   "cell_type": "code",
   "execution_count": 20,
   "metadata": {
    "collapsed": false,
    "scrolled": true
   },
   "outputs": [
    {
     "name": "stderr",
     "output_type": "stream",
     "text": [
      "C:\\Users\\lfvargas\\AppData\\Local\\Continuum\\Anaconda3\\envs\\myEnvTesis\\lib\\site-packages\\ipykernel\\__main__.py:28: SettingWithCopyWarning: \n",
      "A value is trying to be set on a copy of a slice from a DataFrame.\n",
      "Try using .loc[row_indexer,col_indexer] = value instead\n",
      "\n",
      "See the caveats in the documentation: http://pandas.pydata.org/pandas-docs/stable/indexing.html#indexing-view-versus-copy\n"
     ]
    },
    {
     "name": "stdout",
     "output_type": "stream",
     "text": [
      "                 APMC  CommodityId  min_price  max_price  modal_price  \\\n",
      "date                                                                    \n",
      "2014-09-01  Nandurbar            2       1432       1635         1543   \n",
      "2014-11-01  Nandurbar            2       1407       1791         1592   \n",
      "2014-12-01  Nandurbar            2       1424       1797         1604   \n",
      "2015-01-01  Nandurbar            2       1482       1843         1686   \n",
      "2015-02-01  Nandurbar            2       1430       1880         1681   \n",
      "2015-03-01  Nandurbar            2       1324       1937         1641   \n",
      "2015-05-01  Nandurbar            2       1379       1820         1621   \n",
      "2015-06-01  Nandurbar            2       1369       1725         1510   \n",
      "2015-08-01  Nandurbar            2       1422       1763         1567   \n",
      "2015-09-01  Nandurbar            2       1411       1860         1548   \n",
      "2015-10-01  Nandurbar            2       1422       1882         1605   \n",
      "2015-11-01  Nandurbar            2       1401       1951         1665   \n",
      "2015-12-01  Nandurbar            2       1442       2005         1714   \n",
      "2016-01-01  Nandurbar            2       1509       1984         1729   \n",
      "2016-02-01  Nandurbar            2       1524       2055         1741   \n",
      "2016-03-01  Nandurbar            2       1500       1865         1682   \n",
      "2016-04-01  Nandurbar            2       1518       1929         1701   \n",
      "2016-05-01  Nandurbar            2       1500       1965         1691   \n",
      "2016-06-01  Nandurbar            2       1494       1865         1669   \n",
      "2016-07-01  Nandurbar            2       1500       1902         1676   \n",
      "2016-08-01  Nandurbar            2       1585       1842         1702   \n",
      "2016-09-01  Nandurbar            2       1533       1926         1700   \n",
      "2016-10-01  Nandurbar            2       1516       1873         1706   \n",
      "\n",
      "            arrivals_in_qtl  \n",
      "date                         \n",
      "2014-09-01             5965  \n",
      "2014-11-01             3456  \n",
      "2014-12-01             4576  \n",
      "2015-01-01             2888  \n",
      "2015-02-01             4042  \n",
      "2015-03-01            36728  \n",
      "2015-05-01            18153  \n",
      "2015-06-01             8374  \n",
      "2015-08-01             4112  \n",
      "2015-09-01             3254  \n",
      "2015-10-01             2460  \n",
      "2015-11-01             1375  \n",
      "2015-12-01             2304  \n",
      "2016-01-01             1626  \n",
      "2016-02-01            15950  \n",
      "2016-03-01            53346  \n",
      "2016-04-01            25923  \n",
      "2016-05-01             9002  \n",
      "2016-06-01             3541  \n",
      "2016-07-01              264  \n",
      "2016-08-01              750  \n",
      "2016-09-01             1742  \n",
      "2016-10-01             1161  \n",
      "                 APMC  CommodityId  min_price  max_price  modal_price  \\\n",
      "date                                                                    \n",
      "2014-09-01  Majalgaon            2       1277       1523         1369   \n",
      "2014-10-01  Majalgaon            2       1237       1608         1399   \n",
      "2014-11-01  Majalgaon            2       1300       1634         1447   \n",
      "2014-12-01  Majalgaon            2       1319       1518         1395   \n",
      "2015-01-01  Majalgaon            2       1427       1587         1491   \n",
      "2015-02-01  Majalgaon            2       1364       1580         1431   \n",
      "2015-03-01  Majalgaon            2       1293       1812         1491   \n",
      "2015-04-01  Majalgaon            2       1328       2190         1745   \n",
      "2015-05-01  Majalgaon            2       1387       2109         1747   \n",
      "2015-06-01  Majalgaon            2       1356       2101         1772   \n",
      "2015-07-01  Majalgaon            2       1480       1901         1636   \n",
      "2015-08-01  Majalgaon            2       1426       1730         1555   \n",
      "2015-09-01  Majalgaon            2       1465       1764         1626   \n",
      "2015-10-01  Majalgaon            2       1464       1846         1710   \n",
      "2015-11-01  Majalgaon            2       1589       1950         1751   \n",
      "2015-12-01  Majalgaon            2       1573       1806         1674   \n",
      "2016-01-01  Majalgaon            2       1620       1932         1787   \n",
      "2016-02-01  Majalgaon            2       1620       1869         1763   \n",
      "2016-03-01  Majalgaon            2       1479       2367         1954   \n",
      "2016-04-01  Majalgaon            2       1508       2438         1991   \n",
      "2016-05-01  Majalgaon            2       1587       2291         1938   \n",
      "2016-06-01  Majalgaon            2       1639       2085         1875   \n",
      "2016-07-01  Majalgaon            2       1667       2167         1969   \n",
      "2016-08-01  Majalgaon            2       1571       2056         1893   \n",
      "2016-09-01  Majalgaon            2       1588       1937         1787   \n",
      "\n",
      "            arrivals_in_qtl  \n",
      "date                         \n",
      "2014-09-01              481  \n",
      "2014-10-01              222  \n",
      "2014-11-01               89  \n",
      "2014-12-01               91  \n",
      "2015-01-01              161  \n",
      "2015-02-01              154  \n",
      "2015-03-01              382  \n",
      "2015-04-01              881  \n",
      "2015-05-01              480  \n",
      "2015-06-01              469  \n",
      "2015-07-01              187  \n",
      "2015-08-01              119  \n",
      "2015-09-01              185  \n",
      "2015-10-01               68  \n",
      "2015-11-01              100  \n",
      "2015-12-01              154  \n",
      "2016-01-01              144  \n",
      "2016-02-01              149  \n",
      "2016-03-01              372  \n",
      "2016-04-01              600  \n",
      "2016-05-01              322  \n",
      "2016-06-01              158  \n",
      "2016-07-01               19  \n",
      "2016-08-01               25  \n",
      "2016-09-01              222  \n"
     ]
    },
    {
     "data": {
      "image/png": "[encoded data removed]",
      "text/plain": [
       "<Figure size 1440x576 with 1 Axes>"
      ]
     },
     "metadata": {},
     "output_type": "display_data"
    }
   ],
   "source": [
    "# Call the function\n",
    "viewPlotsTS(DF_Month,\"modal_price\")"
   ]
  },
  {
   "cell_type": "code",
   "execution_count": null,
   "metadata": {
    "collapsed": true
   },
   "outputs": [],
   "source": []
  }
 ],
 "metadata": {
  "kernelspec": {
   "display_name": "Python 3",
   "language": "python",
   "name": "python3"
  },
  "language_info": {
   "codemirror_mode": {
    "name": "ipython",
    "version": 3
   },
   "file_extension": ".py",
   "mimetype": "text/x-python",
   "name": "python",
   "nbconvert_exporter": "python",
   "pygments_lexer": "ipython3",
   "version": "3.6.0"
  }
 },
 "nbformat": 4,
 "nbformat_minor": 2
}
